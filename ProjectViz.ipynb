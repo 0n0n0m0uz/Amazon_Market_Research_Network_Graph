{
 "cells": [
  {
   "cell_type": "markdown",
   "metadata": {},
   "source": [
    "<div class=\"alert alert-block alert-info\">\n",
    "Setup Jupyter Startup Config\n",
    "</div>"
   ]
  },
  {
   "cell_type": "code",
   "execution_count": 34,
   "metadata": {},
   "outputs": [
    {
     "data": {
      "text/html": [
       "<style>.container { width:100% !important; }</style>"
      ],
      "text/plain": [
       "<IPython.core.display.HTML object>"
      ]
     },
     "metadata": {},
     "output_type": "display_data"
    }
   ],
   "source": [
    "# %load C:\\users\\derek\\.jupyter\\startup.py\n",
    "from IPython.core.interactiveshell import InteractiveShell\n",
    "InteractiveShell.ast_node_interactivity = \"all\"\n",
    "\n",
    "from IPython.core.display import display, HTML\n",
    "display(HTML(\"<style>.container { width:100% !important; }</style>\"))\n",
    "\n",
    "pd.set_option('display.max_colwidth', 100)\n",
    "\n",
    "#pd.set_option('display.max_colwidth', None)\n",
    "\n",
    "# <div class=\"alert alert-block alert-info\">\n",
    "# This is a blue background\n",
    "# </div>\n",
    "\n",
    "# <div class=\"alert alert-block alert-warning\">\n",
    "# This is a yellow background\n",
    "# </div>\n",
    "\n",
    "# <div class=\"alert alert-block alert-success\">\n",
    "# This is a green background\n",
    "# </div>\n",
    "\n",
    "# <div class=\"alert alert-block alert-danger\">\n",
    "# This is a red background\n",
    "# </div>"
   ]
  },
  {
   "cell_type": "markdown",
   "metadata": {},
   "source": [
    "$\\color{red}{\\text{Text Message}}$\n",
    "\n",
    "<div class=\"alert alert-block alert-info\">\n",
    "Import Packages\n",
    "</div>"
   ]
  },
  {
   "cell_type": "code",
   "execution_count": 2,
   "metadata": {},
   "outputs": [],
   "source": [
    "\n",
    "#from google.cloud import storage\n",
    "\n",
    "import os\n",
    "import random\n",
    "import json\n",
    "import gzip\n",
    "import csv\n",
    "\n",
    "\n",
    "import numpy as np\n",
    "import pandas as pd\n",
    "\n",
    "from urllib.request import urlopen\n",
    "from tqdm import tqdm_notebook as tqdm\n",
    "from collections import defaultdict\n",
    "#from amazon.api import AMAZONAPI"
   ]
  },
  {
   "cell_type": "markdown",
   "metadata": {},
   "source": [
    "***"
   ]
  },
  {
   "cell_type": "markdown",
   "metadata": {},
   "source": [
    "<div class=\"alert alert-block alert-success\">\n",
    "Data Import\n",
    "</div>"
   ]
  },
  {
   "cell_type": "code",
   "execution_count": 4,
   "metadata": {},
   "outputs": [
    {
     "name": "stdout",
     "output_type": "stream",
     "text": [
      "There are 779,909 edges from the electronics category \n",
      "\n",
      "<class 'pandas.core.frame.DataFrame'>\n",
      "RangeIndex: 779909 entries, 0 to 779908\n",
      "Data columns (total 6 columns):\n",
      " #   Column        Non-Null Count   Dtype  \n",
      "---  ------        --------------   -----  \n",
      " 0   source        779909 non-null  string \n",
      " 1   target        779909 non-null  string \n",
      " 2   src_title     779909 non-null  string \n",
      " 3   target_title  779909 non-null  string \n",
      " 4   lookup        779909 non-null  string \n",
      " 5   edge_wt       779909 non-null  float64\n",
      "dtypes: float64(1), string(5)\n",
      "memory usage: 35.7 MB\n"
     ]
    },
    {
     "data": {
      "text/html": [
       "<div>\n",
       "<style scoped>\n",
       "    .dataframe tbody tr th:only-of-type {\n",
       "        vertical-align: middle;\n",
       "    }\n",
       "\n",
       "    .dataframe tbody tr th {\n",
       "        vertical-align: top;\n",
       "    }\n",
       "\n",
       "    .dataframe thead th {\n",
       "        text-align: right;\n",
       "    }\n",
       "</style>\n",
       "<table border=\"1\" class=\"dataframe\">\n",
       "  <thead>\n",
       "    <tr style=\"text-align: right;\">\n",
       "      <th></th>\n",
       "      <th>source</th>\n",
       "      <th>target</th>\n",
       "      <th>src_title</th>\n",
       "      <th>target_title</th>\n",
       "      <th>lookup</th>\n",
       "      <th>edge_wt</th>\n",
       "    </tr>\n",
       "  </thead>\n",
       "  <tbody>\n",
       "    <tr>\n",
       "      <th>0</th>\n",
       "      <td>B00WH2QOF4</td>\n",
       "      <td>B00SQWNH7C</td>\n",
       "      <td>Mr Shield for Samsung Galaxy Tab A 8.0 Inch Premium Clear Screen Protector [3-Pack] with Lifetim...</td>\n",
       "      <td>[3-Pack] Supershieldz for Samsung Galaxy Tab A 8.0 inch (2015) [SM-T350 Model Only] Screen Prote...</td>\n",
       "      <td>B00WH2QOF4B00SQWNH7C</td>\n",
       "      <td>109.0</td>\n",
       "    </tr>\n",
       "    <tr>\n",
       "      <th>1</th>\n",
       "      <td>B0000BVYT3</td>\n",
       "      <td>B015PRO512</td>\n",
       "      <td>Ubiquiti Networks Unifi 802.11ac Dual-Radio PRO Access Point (UAP-AC-PRO-US)</td>\n",
       "      <td>NETGEAR 5-Port Gigabit Ethernet Unmanaged Switch, Sturdy Metal, Desktop, Plug-and-Play, ProSAFE ...</td>\n",
       "      <td>B0000BVYT3B015PRO512</td>\n",
       "      <td>101.0</td>\n",
       "    </tr>\n",
       "    <tr>\n",
       "      <th>2</th>\n",
       "      <td>B001LQSFKY</td>\n",
       "      <td>B00ERPWAK2</td>\n",
       "      <td>ONZOW ZeroDust - Stylus Cleaner</td>\n",
       "      <td>MOBILE FIDELITY SOUND LAB INNER SLEEVES - MOFI MFSL (50 RECORD SLEEVES)</td>\n",
       "      <td>B001LQSFKYB00ERPWAK2</td>\n",
       "      <td>98.0</td>\n",
       "    </tr>\n",
       "    <tr>\n",
       "      <th>3</th>\n",
       "      <td>B0046AMGW0</td>\n",
       "      <td>B01EV70C78</td>\n",
       "      <td>Elegoo EL-CP-004 120pcs Multicolored Dupont Wire 40pin Male to Female, 40pin Male to Male, 40pin...</td>\n",
       "      <td>ARDUINO MEGA 2560 REV3 [A000067]</td>\n",
       "      <td>B0046AMGW0B01EV70C78</td>\n",
       "      <td>96.0</td>\n",
       "    </tr>\n",
       "    <tr>\n",
       "      <th>4</th>\n",
       "      <td>B0046AMGW0</td>\n",
       "      <td>B01H4ZLZLQ</td>\n",
       "      <td>Elegoo EL-CB-003 MEGA 2560 R3 Board ATmega2560 ATMEGA16U2 + USB Cable for Arduino</td>\n",
       "      <td>ARDUINO MEGA 2560 REV3 [A000067]</td>\n",
       "      <td>B0046AMGW0B01H4ZLZLQ</td>\n",
       "      <td>93.0</td>\n",
       "    </tr>\n",
       "  </tbody>\n",
       "</table>\n",
       "</div>"
      ],
      "text/plain": [
       "       source      target  \\\n",
       "0  B00WH2QOF4  B00SQWNH7C   \n",
       "1  B0000BVYT3  B015PRO512   \n",
       "2  B001LQSFKY  B00ERPWAK2   \n",
       "3  B0046AMGW0  B01EV70C78   \n",
       "4  B0046AMGW0  B01H4ZLZLQ   \n",
       "\n",
       "                                                                                             src_title  \\\n",
       "0  Mr Shield for Samsung Galaxy Tab A 8.0 Inch Premium Clear Screen Protector [3-Pack] with Lifetim...   \n",
       "1                         Ubiquiti Networks Unifi 802.11ac Dual-Radio PRO Access Point (UAP-AC-PRO-US)   \n",
       "2                                                                      ONZOW ZeroDust - Stylus Cleaner   \n",
       "3  Elegoo EL-CP-004 120pcs Multicolored Dupont Wire 40pin Male to Female, 40pin Male to Male, 40pin...   \n",
       "4                    Elegoo EL-CB-003 MEGA 2560 R3 Board ATmega2560 ATMEGA16U2 + USB Cable for Arduino   \n",
       "\n",
       "                                                                                          target_title  \\\n",
       "0  [3-Pack] Supershieldz for Samsung Galaxy Tab A 8.0 inch (2015) [SM-T350 Model Only] Screen Prote...   \n",
       "1  NETGEAR 5-Port Gigabit Ethernet Unmanaged Switch, Sturdy Metal, Desktop, Plug-and-Play, ProSAFE ...   \n",
       "2                              MOBILE FIDELITY SOUND LAB INNER SLEEVES - MOFI MFSL (50 RECORD SLEEVES)   \n",
       "3                                                                     ARDUINO MEGA 2560 REV3 [A000067]   \n",
       "4                                                                     ARDUINO MEGA 2560 REV3 [A000067]   \n",
       "\n",
       "                 lookup  edge_wt  \n",
       "0  B00WH2QOF4B00SQWNH7C    109.0  \n",
       "1  B0000BVYT3B015PRO512    101.0  \n",
       "2  B001LQSFKYB00ERPWAK2     98.0  \n",
       "3  B0046AMGW0B01EV70C78     96.0  \n",
       "4  B0046AMGW0B01H4ZLZLQ     93.0  "
      ]
     },
     "execution_count": 4,
     "metadata": {},
     "output_type": "execute_result"
    }
   ],
   "source": [
    "path = 'ELECTRONICS_INPUT.csv'\n",
    "types_dict = {'source': 'string', 'target': 'string', 'src_title': 'string', 'target_title':'string','lookup':'string','edge_wt':'float' }\n",
    "df_EDGES = pd.read_csv(path,dtype=types_dict)\n",
    "print(\"{}{:,}{}\".format(\"There are \",len(df_EDGES),\" edges from the electronics category \\n\"))\n",
    "df_EDGES.info()\n",
    "df_EDGES.head()\n"
   ]
  },
  {
   "cell_type": "markdown",
   "metadata": {},
   "source": [
    "## Proof there are no duplicates in here"
   ]
  },
  {
   "cell_type": "code",
   "execution_count": 5,
   "metadata": {},
   "outputs": [
    {
     "data": {
      "text/html": [
       "<div>\n",
       "<style scoped>\n",
       "    .dataframe tbody tr th:only-of-type {\n",
       "        vertical-align: middle;\n",
       "    }\n",
       "\n",
       "    .dataframe tbody tr th {\n",
       "        vertical-align: top;\n",
       "    }\n",
       "\n",
       "    .dataframe thead th {\n",
       "        text-align: right;\n",
       "    }\n",
       "</style>\n",
       "<table border=\"1\" class=\"dataframe\">\n",
       "  <thead>\n",
       "    <tr style=\"text-align: right;\">\n",
       "      <th></th>\n",
       "      <th>source</th>\n",
       "      <th>target</th>\n",
       "      <th>src_title</th>\n",
       "      <th>target_title</th>\n",
       "      <th>lookup</th>\n",
       "      <th>edge_wt</th>\n",
       "    </tr>\n",
       "  </thead>\n",
       "  <tbody>\n",
       "  </tbody>\n",
       "</table>\n",
       "</div>"
      ],
      "text/plain": [
       "Empty DataFrame\n",
       "Columns: [source, target, src_title, target_title, lookup, edge_wt]\n",
       "Index: []"
      ]
     },
     "execution_count": 5,
     "metadata": {},
     "output_type": "execute_result"
    }
   ],
   "source": [
    "df_EDGES[df_EDGES.duplicated(subset=['lookup'], keep='first')].sort_values(by='lookup', ascending=False).reset_index(drop=True)"
   ]
  },
  {
   "cell_type": "code",
   "execution_count": 19,
   "metadata": {},
   "outputs": [],
   "source": [
    "#df_EDGES = df_EDGES.drop_duplicates(subset=['lookup'], keep='first')"
   ]
  },
  {
   "cell_type": "code",
   "execution_count": 20,
   "metadata": {},
   "outputs": [],
   "source": [
    "#df_EDGES.info()"
   ]
  },
  {
   "cell_type": "markdown",
   "metadata": {},
   "source": [
    "## Export the Category Level Data to CSV If Needed"
   ]
  },
  {
   "cell_type": "code",
   "execution_count": 153,
   "metadata": {},
   "outputs": [],
   "source": [
    "df_EDGES.to_csv('ELECTRONICS_INPUT.csv', index=False)  "
   ]
  },
  {
   "cell_type": "markdown",
   "metadata": {},
   "source": [
    "<div class=\"alert alert-block alert-success\">\n",
    "Get Nodes List\n",
    "</div>"
   ]
  },
  {
   "cell_type": "code",
   "execution_count": 8,
   "metadata": {},
   "outputs": [],
   "source": [
    "source = df_EDGES.source.unique()\n",
    "target = df_EDGES.target.unique()"
   ]
  },
  {
   "cell_type": "code",
   "execution_count": 9,
   "metadata": {},
   "outputs": [
    {
     "data": {
      "text/plain": [
       "pandas.core.arrays.string_.StringArray"
      ]
     },
     "execution_count": 9,
     "metadata": {},
     "output_type": "execute_result"
    },
    {
     "data": {
      "text/plain": [
       "84200"
      ]
     },
     "execution_count": 9,
     "metadata": {},
     "output_type": "execute_result"
    },
    {
     "data": {
      "text/plain": [
       "pandas.core.arrays.string_.StringArray"
      ]
     },
     "execution_count": 9,
     "metadata": {},
     "output_type": "execute_result"
    },
    {
     "data": {
      "text/plain": [
       "123192"
      ]
     },
     "execution_count": 9,
     "metadata": {},
     "output_type": "execute_result"
    },
    {
     "name": "stdout",
     "output_type": "stream",
     "text": [
      "There are 123,192 unique asins w metadata \n",
      "\n"
     ]
    }
   ],
   "source": [
    "type(source)\n",
    "len(source)\n",
    "type(target)\n",
    "len(target)\n",
    "print(\"{}{:,}{}\".format(\"There are \",len(target),\" unique asins w metadata \\n\"))"
   ]
  },
  {
   "cell_type": "markdown",
   "metadata": {},
   "source": [
    "<div class=\"alert alert-block alert-success\">\n",
    "Remember to Get unqiue list of the combination of src+trgt (also could have just concatenated first and take unique)  \n",
    "</div>"
   ]
  },
  {
   "cell_type": "code",
   "execution_count": 10,
   "metadata": {},
   "outputs": [],
   "source": [
    "\n",
    "\n",
    "label = np.unique(np.concatenate([source, target]))\n",
    "\n"
   ]
  },
  {
   "cell_type": "code",
   "execution_count": 11,
   "metadata": {},
   "outputs": [
    {
     "data": {
      "text/plain": [
       "178050"
      ]
     },
     "execution_count": 11,
     "metadata": {},
     "output_type": "execute_result"
    },
    {
     "data": {
      "text/plain": [
       "array(['000647330X', '0007159862', '0007320817', ..., 'B01HJDXFQQ',\n",
       "       'B01HJGIQDA', 'B01HJGIQFI'], dtype=object)"
      ]
     },
     "execution_count": 11,
     "metadata": {},
     "output_type": "execute_result"
    },
    {
     "name": "stdout",
     "output_type": "stream",
     "text": [
      "There are 178,050 unique nodes \n",
      "\n"
     ]
    }
   ],
   "source": [
    "len(label)\n",
    "label\n",
    "print(\"{}{:,}{}\".format(\"There are \",len(label),\" unique nodes \\n\"))"
   ]
  },
  {
   "cell_type": "code",
   "execution_count": 12,
   "metadata": {},
   "outputs": [],
   "source": [
    "nodes = pd.DataFrame(label, columns = ['Label'])"
   ]
  },
  {
   "cell_type": "markdown",
   "metadata": {},
   "source": [
    "<div class=\"alert alert-block alert-success\">\n",
    "Test for Duplicates\n",
    "</div>"
   ]
  },
  {
   "cell_type": "code",
   "execution_count": 25,
   "metadata": {},
   "outputs": [
    {
     "data": {
      "text/html": [
       "<div>\n",
       "<style scoped>\n",
       "    .dataframe tbody tr th:only-of-type {\n",
       "        vertical-align: middle;\n",
       "    }\n",
       "\n",
       "    .dataframe tbody tr th {\n",
       "        vertical-align: top;\n",
       "    }\n",
       "\n",
       "    .dataframe thead th {\n",
       "        text-align: right;\n",
       "    }\n",
       "</style>\n",
       "<table border=\"1\" class=\"dataframe\">\n",
       "  <thead>\n",
       "    <tr style=\"text-align: right;\">\n",
       "      <th></th>\n",
       "      <th>Label</th>\n",
       "      <th>ID</th>\n",
       "      <th>Nodes</th>\n",
       "    </tr>\n",
       "  </thead>\n",
       "  <tbody>\n",
       "  </tbody>\n",
       "</table>\n",
       "</div>"
      ],
      "text/plain": [
       "Empty DataFrame\n",
       "Columns: [Label, ID, Nodes]\n",
       "Index: []"
      ]
     },
     "execution_count": 25,
     "metadata": {},
     "output_type": "execute_result"
    }
   ],
   "source": [
    "nodes[nodes.duplicated()]"
   ]
  },
  {
   "cell_type": "markdown",
   "metadata": {},
   "source": [
    "<div class=\"alert alert-block alert-success\">\n",
    "Create Nodes List with Sequential Key needed for certain graphing approaches/software \n",
    "</div>"
   ]
  },
  {
   "cell_type": "code",
   "execution_count": 17,
   "metadata": {},
   "outputs": [],
   "source": [
    "nodes['ID'] = range(1, 1 + len(nodes))\n",
    "\n",
    "nodes['Nodes'] = range(1, 1 + len(nodes))"
   ]
  },
  {
   "cell_type": "code",
   "execution_count": 18,
   "metadata": {},
   "outputs": [
    {
     "data": {
      "text/html": [
       "<div>\n",
       "<style scoped>\n",
       "    .dataframe tbody tr th:only-of-type {\n",
       "        vertical-align: middle;\n",
       "    }\n",
       "\n",
       "    .dataframe tbody tr th {\n",
       "        vertical-align: top;\n",
       "    }\n",
       "\n",
       "    .dataframe thead th {\n",
       "        text-align: right;\n",
       "    }\n",
       "</style>\n",
       "<table border=\"1\" class=\"dataframe\">\n",
       "  <thead>\n",
       "    <tr style=\"text-align: right;\">\n",
       "      <th></th>\n",
       "      <th>Label</th>\n",
       "      <th>ID</th>\n",
       "      <th>Nodes</th>\n",
       "    </tr>\n",
       "  </thead>\n",
       "  <tbody>\n",
       "    <tr>\n",
       "      <th>0</th>\n",
       "      <td>000647330X</td>\n",
       "      <td>1</td>\n",
       "      <td>1</td>\n",
       "    </tr>\n",
       "    <tr>\n",
       "      <th>1</th>\n",
       "      <td>0007159862</td>\n",
       "      <td>2</td>\n",
       "      <td>2</td>\n",
       "    </tr>\n",
       "    <tr>\n",
       "      <th>2</th>\n",
       "      <td>0007320817</td>\n",
       "      <td>3</td>\n",
       "      <td>3</td>\n",
       "    </tr>\n",
       "    <tr>\n",
       "      <th>3</th>\n",
       "      <td>0007553676</td>\n",
       "      <td>4</td>\n",
       "      <td>4</td>\n",
       "    </tr>\n",
       "    <tr>\n",
       "      <th>4</th>\n",
       "      <td>0008214557</td>\n",
       "      <td>5</td>\n",
       "      <td>5</td>\n",
       "    </tr>\n",
       "    <tr>\n",
       "      <th>...</th>\n",
       "      <td>...</td>\n",
       "      <td>...</td>\n",
       "      <td>...</td>\n",
       "    </tr>\n",
       "    <tr>\n",
       "      <th>178045</th>\n",
       "      <td>B01HJDOF2Y</td>\n",
       "      <td>178046</td>\n",
       "      <td>178046</td>\n",
       "    </tr>\n",
       "    <tr>\n",
       "      <th>178046</th>\n",
       "      <td>B01HJDR9DQ</td>\n",
       "      <td>178047</td>\n",
       "      <td>178047</td>\n",
       "    </tr>\n",
       "    <tr>\n",
       "      <th>178047</th>\n",
       "      <td>B01HJDXFQQ</td>\n",
       "      <td>178048</td>\n",
       "      <td>178048</td>\n",
       "    </tr>\n",
       "    <tr>\n",
       "      <th>178048</th>\n",
       "      <td>B01HJGIQDA</td>\n",
       "      <td>178049</td>\n",
       "      <td>178049</td>\n",
       "    </tr>\n",
       "    <tr>\n",
       "      <th>178049</th>\n",
       "      <td>B01HJGIQFI</td>\n",
       "      <td>178050</td>\n",
       "      <td>178050</td>\n",
       "    </tr>\n",
       "  </tbody>\n",
       "</table>\n",
       "<p>178050 rows × 3 columns</p>\n",
       "</div>"
      ],
      "text/plain": [
       "             Label      ID   Nodes\n",
       "0       000647330X       1       1\n",
       "1       0007159862       2       2\n",
       "2       0007320817       3       3\n",
       "3       0007553676       4       4\n",
       "4       0008214557       5       5\n",
       "...            ...     ...     ...\n",
       "178045  B01HJDOF2Y  178046  178046\n",
       "178046  B01HJDR9DQ  178047  178047\n",
       "178047  B01HJDXFQQ  178048  178048\n",
       "178048  B01HJGIQDA  178049  178049\n",
       "178049  B01HJGIQFI  178050  178050\n",
       "\n",
       "[178050 rows x 3 columns]"
      ]
     },
     "execution_count": 18,
     "metadata": {},
     "output_type": "execute_result"
    }
   ],
   "source": [
    "nodes"
   ]
  },
  {
   "cell_type": "markdown",
   "metadata": {},
   "source": [
    "<div class=\"alert alert-block alert-success\">\n",
    "Export to CSV\n",
    "</div>"
   ]
  },
  {
   "cell_type": "code",
   "execution_count": 163,
   "metadata": {},
   "outputs": [],
   "source": [
    "nodes.to_csv('nodes.csv', index = False)"
   ]
  },
  {
   "cell_type": "markdown",
   "metadata": {},
   "source": [
    "***"
   ]
  },
  {
   "cell_type": "markdown",
   "metadata": {},
   "source": [
    "<div class=\"alert alert-block alert-warning\">\n",
    "Edges List\n",
    "</div>"
   ]
  },
  {
   "cell_type": "code",
   "execution_count": 19,
   "metadata": {},
   "outputs": [],
   "source": [
    "df_EDGES['Source'] = df_EDGES.source.map(nodes.set_index('Label')['Nodes'].to_dict())"
   ]
  },
  {
   "cell_type": "code",
   "execution_count": 20,
   "metadata": {},
   "outputs": [],
   "source": [
    "df_EDGES['Target'] = df_EDGES.target.map(nodes.set_index('Label')['Nodes'].to_dict())"
   ]
  },
  {
   "cell_type": "code",
   "execution_count": 21,
   "metadata": {},
   "outputs": [],
   "source": [
    "df_EDGES['Type'] = 'undirected'"
   ]
  },
  {
   "cell_type": "code",
   "execution_count": 22,
   "metadata": {},
   "outputs": [],
   "source": [
    "df_EDGES = df_EDGES.rename(columns={'edge_wt': 'Weight'})"
   ]
  },
  {
   "cell_type": "code",
   "execution_count": 23,
   "metadata": {},
   "outputs": [],
   "source": [
    "edges = df_EDGES[['Source','Target','Type','Weight']]"
   ]
  },
  {
   "cell_type": "code",
   "execution_count": 24,
   "metadata": {},
   "outputs": [
    {
     "data": {
      "text/html": [
       "<div>\n",
       "<style scoped>\n",
       "    .dataframe tbody tr th:only-of-type {\n",
       "        vertical-align: middle;\n",
       "    }\n",
       "\n",
       "    .dataframe tbody tr th {\n",
       "        vertical-align: top;\n",
       "    }\n",
       "\n",
       "    .dataframe thead th {\n",
       "        text-align: right;\n",
       "    }\n",
       "</style>\n",
       "<table border=\"1\" class=\"dataframe\">\n",
       "  <thead>\n",
       "    <tr style=\"text-align: right;\">\n",
       "      <th></th>\n",
       "      <th>Source</th>\n",
       "      <th>Target</th>\n",
       "      <th>Type</th>\n",
       "      <th>Weight</th>\n",
       "    </tr>\n",
       "  </thead>\n",
       "  <tbody>\n",
       "    <tr>\n",
       "      <th>0</th>\n",
       "      <td>121866</td>\n",
       "      <td>113744</td>\n",
       "      <td>undirected</td>\n",
       "      <td>109.0</td>\n",
       "    </tr>\n",
       "    <tr>\n",
       "      <th>1</th>\n",
       "      <td>8699</td>\n",
       "      <td>140275</td>\n",
       "      <td>undirected</td>\n",
       "      <td>101.0</td>\n",
       "    </tr>\n",
       "    <tr>\n",
       "      <th>2</th>\n",
       "      <td>28296</td>\n",
       "      <td>74855</td>\n",
       "      <td>undirected</td>\n",
       "      <td>98.0</td>\n",
       "    </tr>\n",
       "    <tr>\n",
       "      <th>3</th>\n",
       "      <td>37956</td>\n",
       "      <td>168713</td>\n",
       "      <td>undirected</td>\n",
       "      <td>96.0</td>\n",
       "    </tr>\n",
       "    <tr>\n",
       "      <th>4</th>\n",
       "      <td>37956</td>\n",
       "      <td>176536</td>\n",
       "      <td>undirected</td>\n",
       "      <td>93.0</td>\n",
       "    </tr>\n",
       "    <tr>\n",
       "      <th>...</th>\n",
       "      <td>...</td>\n",
       "      <td>...</td>\n",
       "      <td>...</td>\n",
       "      <td>...</td>\n",
       "    </tr>\n",
       "    <tr>\n",
       "      <th>779904</th>\n",
       "      <td>130187</td>\n",
       "      <td>32403</td>\n",
       "      <td>undirected</td>\n",
       "      <td>1.0</td>\n",
       "    </tr>\n",
       "    <tr>\n",
       "      <th>779905</th>\n",
       "      <td>130170</td>\n",
       "      <td>32403</td>\n",
       "      <td>undirected</td>\n",
       "      <td>1.0</td>\n",
       "    </tr>\n",
       "    <tr>\n",
       "      <th>779906</th>\n",
       "      <td>129947</td>\n",
       "      <td>32403</td>\n",
       "      <td>undirected</td>\n",
       "      <td>1.0</td>\n",
       "    </tr>\n",
       "    <tr>\n",
       "      <th>779907</th>\n",
       "      <td>130011</td>\n",
       "      <td>32403</td>\n",
       "      <td>undirected</td>\n",
       "      <td>1.0</td>\n",
       "    </tr>\n",
       "    <tr>\n",
       "      <th>779908</th>\n",
       "      <td>77071</td>\n",
       "      <td>72376</td>\n",
       "      <td>undirected</td>\n",
       "      <td>1.0</td>\n",
       "    </tr>\n",
       "  </tbody>\n",
       "</table>\n",
       "<p>779909 rows × 4 columns</p>\n",
       "</div>"
      ],
      "text/plain": [
       "        Source  Target        Type  Weight\n",
       "0       121866  113744  undirected   109.0\n",
       "1         8699  140275  undirected   101.0\n",
       "2        28296   74855  undirected    98.0\n",
       "3        37956  168713  undirected    96.0\n",
       "4        37956  176536  undirected    93.0\n",
       "...        ...     ...         ...     ...\n",
       "779904  130187   32403  undirected     1.0\n",
       "779905  130170   32403  undirected     1.0\n",
       "779906  129947   32403  undirected     1.0\n",
       "779907  130011   32403  undirected     1.0\n",
       "779908   77071   72376  undirected     1.0\n",
       "\n",
       "[779909 rows x 4 columns]"
      ]
     },
     "execution_count": 24,
     "metadata": {},
     "output_type": "execute_result"
    }
   ],
   "source": [
    "edges"
   ]
  },
  {
   "cell_type": "markdown",
   "metadata": {},
   "source": [
    "\n",
    "<div class=\"alert alert-block alert-warning\">\n",
    "Export to CSV\n",
    "</div>"
   ]
  },
  {
   "cell_type": "code",
   "execution_count": 170,
   "metadata": {},
   "outputs": [],
   "source": [
    "edges.to_csv('main.csv', index = False)"
   ]
  },
  {
   "cell_type": "markdown",
   "metadata": {},
   "source": [
    "***"
   ]
  },
  {
   "cell_type": "markdown",
   "metadata": {},
   "source": [
    "\n",
    "<div class=\"alert alert-block alert-danger\">\n",
    "Import Graph Stuff\n",
    "</div>"
   ]
  },
  {
   "cell_type": "code",
   "execution_count": 26,
   "metadata": {},
   "outputs": [],
   "source": [
    "import networkx as nx\n",
    "from networkx.algorithms import community\n",
    "import community as community_louvain\n",
    "import community.community_louvain as community_louvain\n",
    "import matplotlib.cm as cm\n",
    "import matplotlib.pyplot as plt\n",
    "from networkx.algorithms.community.centrality import girvan_newman"
   ]
  },
  {
   "cell_type": "markdown",
   "metadata": {},
   "source": [
    "<div class=\"alert alert-block alert-danger\">\n",
    "Get Weights, and Label Attributed for Graph Input\n",
    "</div>"
   ]
  },
  {
   "cell_type": "code",
   "execution_count": 27,
   "metadata": {},
   "outputs": [],
   "source": [
    " Graph=nx.from_pandas_edgelist(df_EDGES, 'source', 'target', ['src_title','target_title', 'Weight'])"
   ]
  },
  {
   "cell_type": "code",
   "execution_count": 28,
   "metadata": {},
   "outputs": [
    {
     "data": {
      "text/plain": [
       "178050"
      ]
     },
     "execution_count": 28,
     "metadata": {},
     "output_type": "execute_result"
    },
    {
     "data": {
      "text/plain": [
       "779909"
      ]
     },
     "execution_count": 28,
     "metadata": {},
     "output_type": "execute_result"
    },
    {
     "data": {
      "text/plain": [
       "networkx.classes.reportviews.EdgeView"
      ]
     },
     "execution_count": 28,
     "metadata": {},
     "output_type": "execute_result"
    },
    {
     "name": "stdout",
     "output_type": "stream",
     "text": [
      "There are 779,909 edges \n",
      "\n"
     ]
    }
   ],
   "source": [
    "len(Graph)\n",
    "len(Graph.edges)\n",
    "edgeslist = Graph.edges\n",
    "type(edgeslist)\n",
    "print(\"{}{:,}{}\".format(\"There are \",len(Graph.edges),\" edges \\n\"))"
   ]
  },
  {
   "cell_type": "code",
   "execution_count": 172,
   "metadata": {
    "jupyter": {
     "source_hidden": true
    },
    "tags": []
   },
   "outputs": [],
   "source": [
    "#edgesonly = df_EDGES[['source','target']]"
   ]
  },
  {
   "cell_type": "code",
   "execution_count": 30,
   "metadata": {
    "jupyter": {
     "source_hidden": true
    },
    "tags": []
   },
   "outputs": [],
   "source": [
    "# edge_tuples = [tuple(x) for x in edgesonly.values]\n",
    "# edge_tuples[1]\n",
    "# len(edge_tuples)\n",
    "# type(edge_tuples)"
   ]
  },
  {
   "cell_type": "code",
   "execution_count": 174,
   "metadata": {
    "jupyter": {
     "source_hidden": true
    },
    "tags": []
   },
   "outputs": [],
   "source": [
    "# Search for duplicates"
   ]
  },
  {
   "cell_type": "code",
   "execution_count": 29,
   "metadata": {
    "jupyter": {
     "source_hidden": true
    },
    "tags": []
   },
   "outputs": [],
   "source": [
    "# res = list(set([ele for ele in edge_tuples\n",
    "#             if edge_tuples.count(ele) > 1]))"
   ]
  },
  {
   "cell_type": "markdown",
   "metadata": {
    "jupyter": {
     "source_hidden": true
    },
    "tags": []
   },
   "source": [
    "<span style='background:blue;font-size:40px;'>  Create Graph Object and add the edges  </span>"
   ]
  },
  {
   "cell_type": "code",
   "execution_count": null,
   "metadata": {
    "jupyter": {
     "source_hidden": true
    },
    "tags": []
   },
   "outputs": [],
   "source": [
    "G = nx.Graph()\n",
    "G.add_edges_from(edge_tuples)"
   ]
  },
  {
   "cell_type": "code",
   "execution_count": null,
   "metadata": {
    "jupyter": {
     "source_hidden": true
    },
    "tags": []
   },
   "outputs": [],
   "source": [
    "len(G)\n",
    "len(G.edges)\n",
    "edgeslist = G.edges\n",
    "type(edgeslist)\n",
    "print(\"{}{:,}{}\".format(\"There are \",len(G.edges),\" edges \\n\"))"
   ]
  },
  {
   "cell_type": "markdown",
   "metadata": {},
   "source": [
    "<div class=\"alert alert-block alert-danger\">\n",
    "View the Connected Components of Graph\n",
    "</div>"
   ]
  },
  {
   "cell_type": "code",
   "execution_count": null,
   "metadata": {},
   "outputs": [],
   "source": [
    "# Connected Components - Theoretically if entire graph was connected there would only be 1.  Most of the components are very small and consist of just a few random nodes.\n",
    "# This is proven in cell below.  If we select the 5031 component it consists of only 1 node.  There is no 5032nd component at all.\n",
    "# The 2nd component only has 18 nodes, so these are probably discontinued products that existed for a short time only.\n"
   ]
  },
  {
   "cell_type": "markdown",
   "metadata": {},
   "source": [
    "![](connected_components.png)"
   ]
  },
  {
   "cell_type": "code",
   "execution_count": 32,
   "metadata": {},
   "outputs": [
    {
     "data": {
      "text/plain": [
       "5032"
      ]
     },
     "execution_count": 32,
     "metadata": {},
     "output_type": "execute_result"
    },
    {
     "name": "stdout",
     "output_type": "stream",
     "text": [
      "There are 5,032 connected components in this graph \n",
      "\n"
     ]
    }
   ],
   "source": [
    "\n",
    "nx.number_connected_components(Graph)\n",
    "print(\"{}{:,}{}\".format(\"There are \",nx.number_connected_components(Graph),\" connected components in this graph \\n\"))"
   ]
  },
  {
   "cell_type": "markdown",
   "metadata": {},
   "source": [
    "<div class=\"alert alert-block alert-danger\">\n",
    "Get the Largest Connected Component - no point to use unconnected small components\n",
    "</div>"
   ]
  },
  {
   "cell_type": "code",
   "execution_count": 33,
   "metadata": {},
   "outputs": [
    {
     "data": {
      "text/plain": [
       "162878"
      ]
     },
     "execution_count": 33,
     "metadata": {},
     "output_type": "execute_result"
    },
    {
     "data": {
      "text/plain": [
       "769119"
      ]
     },
     "execution_count": 33,
     "metadata": {},
     "output_type": "execute_result"
    }
   ],
   "source": [
    "Chosen_Component = (Graph.subgraph(c) for c in nx.connected_components(Graph))\n",
    "Chosen_Component = list(Chosen_Component)[0] # Slice here to choose desired component\n",
    "len(Chosen_Component)\n",
    "len(Chosen_Component.edges)"
   ]
  },
  {
   "cell_type": "markdown",
   "metadata": {},
   "source": [
    "<div class=\"alert alert-block alert-danger\">\n",
    "Export graph as .gexf for GEPHI\n",
    "</div>"
   ]
  },
  {
   "cell_type": "code",
   "execution_count": null,
   "metadata": {},
   "outputs": [],
   "source": [
    "nx.write_gexf(Graph, \"full.gexf\")"
   ]
  },
  {
   "cell_type": "code",
   "execution_count": 52,
   "metadata": {},
   "outputs": [],
   "source": []
  },
  {
   "cell_type": "markdown",
   "metadata": {},
   "source": [
    "<div class=\"alert alert-block alert-danger\">\n",
    "Run the Graph/Subgraph chosen thru Community Louvain Best Partition to find Partition of Highest Modularity\n",
    "</div>"
   ]
  },
  {
   "cell_type": "code",
   "execution_count": 43,
   "metadata": {},
   "outputs": [],
   "source": [
    "bestpartition = community_louvain.best_partition(Chosen_Component, weight='Weight')\n",
    "# Gets the Community Number\n",
    "values = [bestpartition.get(node) for node in Chosen_Component.nodes()] #The get() method returns the value of the item with the specified key.\n",
    "# partition = community_louvain.best_partition(Graph)\n",
    "# len(partition.keys())\n",
    "# max(partition.values())"
   ]
  },
  {
   "cell_type": "code",
   "execution_count": 45,
   "metadata": {},
   "outputs": [],
   "source": [
    "# bestcomm.items()\n",
    "# values"
   ]
  },
  {
   "cell_type": "code",
   "execution_count": null,
   "metadata": {},
   "outputs": [],
   "source": [
    "nx.write_gexf(A, \"B.gexf\")"
   ]
  },
  {
   "cell_type": "markdown",
   "metadata": {},
   "source": [
    "<div class=\"alert alert-block alert-danger\">\n",
    "Graph only the nodes found in a specific community of our choosing\n",
    "</div>"
   ]
  },
  {
   "cell_type": "code",
   "execution_count": 47,
   "metadata": {},
   "outputs": [],
   "source": [
    "nodes_in_communityX = [node for node,community in bestcomm.items() if community == 0]\n",
    "S = Chosen_Component.subgraph(nodes_in_communityX)"
   ]
  },
  {
   "cell_type": "markdown",
   "metadata": {},
   "source": [
    "<div class=\"alert alert-block alert-danger\">\n",
    "Summary of Subgraph to Export to GEPHI\n",
    "</div>"
   ]
  },
  {
   "cell_type": "code",
   "execution_count": 64,
   "metadata": {},
   "outputs": [
    {
     "name": "stdout",
     "output_type": "stream",
     "text": [
      "There are 148 communities in the most connected, component, Louvain best partition \n",
      "\n",
      "There are 2,357 nodes and 9,703 in the community graph \n",
      "\n"
     ]
    }
   ],
   "source": [
    "#max(bestpartition.values())\n",
    "print(\"{}{:,}{}\".format(\"There are \",max(values),\" communities in the most connected, component, Louvain best partition \\n\"))\n",
    "\n",
    "print(\"{}{:,}{}{:,}{}\".format(\"There are \",len(S),\" nodes and \",len(S.edges),\" in the community graph \\n\"))\n"
   ]
  },
  {
   "cell_type": "code",
   "execution_count": 159,
   "metadata": {},
   "outputs": [],
   "source": [
    "nx.write_gexf(S, \"2ndcomponent.gexf\")"
   ]
  },
  {
   "cell_type": "markdown",
   "metadata": {},
   "source": [
    "***"
   ]
  },
  {
   "cell_type": "markdown",
   "metadata": {},
   "source": [
    "<div class=\"alert alert-block alert-danger\">\n",
    "LEIDEN ALGORITHM\n",
    "</div>"
   ]
  },
  {
   "cell_type": "code",
   "execution_count": 65,
   "metadata": {},
   "outputs": [],
   "source": [
    "import numpy as np\n",
    "from cdlib import algorithms"
   ]
  },
  {
   "cell_type": "code",
   "execution_count": 17,
   "metadata": {},
   "outputs": [],
   "source": [
    "#B = nx.karate_club_graph()\n",
    "coms = algorithms.leiden(A)"
   ]
  },
  {
   "cell_type": "code",
   "execution_count": 21,
   "metadata": {},
   "outputs": [
    {
     "data": {
      "text/plain": [
       "168"
      ]
     },
     "execution_count": 21,
     "metadata": {},
     "output_type": "execute_result"
    },
    {
     "data": {
      "text/plain": [
       "list"
      ]
     },
     "execution_count": 21,
     "metadata": {},
     "output_type": "execute_result"
    }
   ],
   "source": [
    "len(coms.communities)\n",
    "type(coms.communities)"
   ]
  },
  {
   "cell_type": "code",
   "execution_count": 37,
   "metadata": {},
   "outputs": [
    {
     "data": {
      "text/plain": [
       "9606"
      ]
     },
     "execution_count": 37,
     "metadata": {},
     "output_type": "execute_result"
    }
   ],
   "source": [
    "len(coms.communities[3])\n",
    "sub = coms.communities[3]"
   ]
  },
  {
   "cell_type": "code",
   "execution_count": 38,
   "metadata": {},
   "outputs": [],
   "source": [
    "#nodes_in_community0 = [node for node,community in bestcomm.items() if community == 0]\n",
    "S = Graph.subgraph(sub)"
   ]
  },
  {
   "cell_type": "code",
   "execution_count": 39,
   "metadata": {},
   "outputs": [
    {
     "data": {
      "text/plain": [
       "9606"
      ]
     },
     "execution_count": 39,
     "metadata": {},
     "output_type": "execute_result"
    },
    {
     "data": {
      "text/plain": [
       "61134"
      ]
     },
     "execution_count": 39,
     "metadata": {},
     "output_type": "execute_result"
    }
   ],
   "source": [
    "len(S)\n",
    "len(S.edges)"
   ]
  },
  {
   "cell_type": "code",
   "execution_count": 40,
   "metadata": {},
   "outputs": [],
   "source": [
    "nx.write_gexf(S, \"3rd_Leiden.gexf\")"
   ]
  },
  {
   "cell_type": "markdown",
   "metadata": {},
   "source": [
    "***"
   ]
  },
  {
   "cell_type": "markdown",
   "metadata": {},
   "source": [
    "<div class=\"alert alert-block alert-danger\">\n",
    "Girvan Communities\n",
    "</div>"
   ]
  },
  {
   "cell_type": "code",
   "execution_count": 67,
   "metadata": {},
   "outputs": [
    {
     "data": {
      "text/plain": [
       "1"
      ]
     },
     "execution_count": 67,
     "metadata": {},
     "output_type": "execute_result"
    },
    {
     "data": {
      "text/plain": [
       "2357"
      ]
     },
     "execution_count": 67,
     "metadata": {},
     "output_type": "execute_result"
    },
    {
     "data": {
      "text/plain": [
       "9703"
      ]
     },
     "execution_count": 67,
     "metadata": {},
     "output_type": "execute_result"
    }
   ],
   "source": [
    "# Girvan Communities\n",
    "nx.number_connected_components(S)\n",
    "A = (Graph.subgraph(c) for c in nx.connected_components(S))\n",
    "A = list(A)[0]\n",
    "len(A)\n",
    "len(A.edges)"
   ]
  },
  {
   "cell_type": "code",
   "execution_count": null,
   "metadata": {},
   "outputs": [],
   "source": [
    "#Implementing Girvan_Newman \n",
    "girvan_groups = []\n",
    "girvan_communities = girvan_newman(A)\n",
    "for com in next(girvan_communities): \n",
    "    girvan_groups.append(list(com))\n",
    "    "
   ]
  },
  {
   "cell_type": "code",
   "execution_count": 69,
   "metadata": {},
   "outputs": [
    {
     "data": {
      "text/plain": [
       "list"
      ]
     },
     "execution_count": 69,
     "metadata": {},
     "output_type": "execute_result"
    }
   ],
   "source": [
    "type(girvan_groups)"
   ]
  },
  {
   "cell_type": "code",
   "execution_count": 77,
   "metadata": {},
   "outputs": [],
   "source": [
    "Girvan_Sub = Graph.subgraph(girvan_groups[0])"
   ]
  },
  {
   "cell_type": "code",
   "execution_count": 79,
   "metadata": {},
   "outputs": [
    {
     "data": {
      "text/plain": [
       "2301"
      ]
     },
     "execution_count": 79,
     "metadata": {},
     "output_type": "execute_result"
    },
    {
     "data": {
      "text/plain": [
       "9599"
      ]
     },
     "execution_count": 79,
     "metadata": {},
     "output_type": "execute_result"
    }
   ],
   "source": [
    "len(Girvan_Sub)\n",
    "len(Girvan_Sub.edges)"
   ]
  },
  {
   "cell_type": "code",
   "execution_count": 81,
   "metadata": {},
   "outputs": [],
   "source": [
    "nx.write_gexf(Girvan_Sub, \"Girvan.gexf\")"
   ]
  },
  {
   "cell_type": "code",
   "execution_count": null,
   "metadata": {},
   "outputs": [],
   "source": []
  }
 ],
 "metadata": {
  "kernelspec": {
   "display_name": "Python 3 (ipykernel)",
   "language": "python",
   "name": "python3"
  },
  "language_info": {
   "codemirror_mode": {
    "name": "ipython",
    "version": 3
   },
   "file_extension": ".py",
   "mimetype": "text/x-python",
   "name": "python",
   "nbconvert_exporter": "python",
   "pygments_lexer": "ipython3",
   "version": "3.8.12"
  }
 },
 "nbformat": 4,
 "nbformat_minor": 4
}
